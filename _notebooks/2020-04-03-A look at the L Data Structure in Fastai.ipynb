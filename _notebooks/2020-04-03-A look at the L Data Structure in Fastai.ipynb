{
 "cells": [
  {
   "cell_type": "markdown",
   "metadata": {},
   "source": [
    "# A look at Fastai's 'L' data structure\n",
    "> Understanding the functionalities of the Fastai core class `L`\n",
    "\n",
    "- toc: true\n",
    "- branch: master\n",
    "- badges: true\n",
    "- comments: true\n",
    "- author: Harish Vadlamani\n",
    "- categories: [fastai, data structures]\n"
   ]
  },
  {
   "cell_type": "markdown",
   "metadata": {},
   "source": [
    "---\n",
    "The actual documentation for `L` can be found [here](http://dev.fast.ai/core.foundation.html#L).\n",
    "\n",
    "`L` is defined in fastcore repo and generated from the '01_foundation.ipynb' [notebook](https://github.com/fastai/fastcore/blob/master/nbs/01_foundation.ipynb).\n",
    "\n",
    "---"
   ]
  },
  {
   "cell_type": "markdown",
   "metadata": {},
   "source": [
    "Importing the libraries needed:"
   ]
  },
  {
   "cell_type": "code",
   "execution_count": null,
   "metadata": {},
   "outputs": [],
   "source": [
    "from fastcore.imports import *\n",
    "from fastai2.vision.all import *"
   ]
  },
  {
   "cell_type": "markdown",
   "metadata": {},
   "source": [
    "---"
   ]
  },
  {
   "cell_type": "markdown",
   "metadata": {},
   "source": [
    "## What is the 'L' data structure?"
   ]
  },
  {
   "cell_type": "markdown",
   "metadata": {},
   "source": [
    "In my previous blog I gave a brief intro to `L` when building an image classifier using Fastai V2  which you can find [here](https://harish3110.github.io/through-tinted-lenses/fastai/image%20classification/2020/03/29/Building-an-image-classifier-using-Fastai-V2.html)\n",
    "\n",
    "`L` is a special Fastai datastructure made specifically to handle with ease the model building in the library. Since, it forms the basic foundation to using the library, it's worth digging deeper into its functionalities. "
   ]
  },
  {
   "cell_type": "markdown",
   "metadata": {},
   "source": [
    "> It's worth noting that when trying to dig deeper into an aspect of a Python library like `L` for instance, it's critical to know the basic concepts of Object Oriented Programming. This is because everything in Python is written as a Class. To get a good understanding of OOPs in Python, you can check out this great free resource [here](https://www.youtube.com/watch?v=ZDa-Z5JzLYM&list=PL-osiE80TeTsqhIuOqKhwlXsIBIdSeYtc)"
   ]
  },
  {
   "cell_type": "markdown",
   "metadata": {},
   "source": [
    "---"
   ]
  },
  {
   "cell_type": "markdown",
   "metadata": {},
   "source": [
    "## Creating an `L`"
   ]
  },
  {
   "cell_type": "markdown",
   "metadata": {},
   "source": [
    "Creating an instance 'a' of class `L` from a list or any other normal iterable:"
   ]
  },
  {
   "cell_type": "code",
   "execution_count": 56,
   "metadata": {},
   "outputs": [
    {
     "data": {
      "text/plain": [
       "(#3) [1,2,3]"
      ]
     },
     "execution_count": 56,
     "metadata": {},
     "output_type": "execute_result"
    }
   ],
   "source": [
    "a = L([1, 2, 3])\n",
    "a"
   ]
  },
  {
   "cell_type": "markdown",
   "metadata": {},
   "source": [
    "We can use Python's `isinstance` method to check if `a` is an instance of `L`:  "
   ]
  },
  {
   "cell_type": "code",
   "execution_count": 57,
   "metadata": {},
   "outputs": [
    {
     "data": {
      "text/plain": [
       "True"
      ]
     },
     "execution_count": 57,
     "metadata": {},
     "output_type": "execute_result"
    }
   ],
   "source": [
    "isinstance(a, L)"
   ]
  },
  {
   "cell_type": "markdown",
   "metadata": {},
   "source": [
    "For Creating an 'L' from an array or tensor we need to pass `use_list`=`True` since it doesn't iterate over them on construction."
   ]
  },
  {
   "cell_type": "markdown",
   "metadata": {},
   "source": [
    "By default we get something like this:"
   ]
  },
  {
   "cell_type": "code",
   "execution_count": 58,
   "metadata": {},
   "outputs": [
    {
     "data": {
      "text/plain": [
       "(#1) [array([0. , 1.1])]"
      ]
     },
     "execution_count": 58,
     "metadata": {},
     "output_type": "execute_result"
    }
   ],
   "source": [
    "L(array([0.,1.1]))"
   ]
  },
  {
   "cell_type": "markdown",
   "metadata": {},
   "source": [
    "And when using `use_list` we get:"
   ]
  },
  {
   "cell_type": "code",
   "execution_count": 59,
   "metadata": {},
   "outputs": [
    {
     "data": {
      "text/plain": [
       "(#2) [0.0,1.1]"
      ]
     },
     "execution_count": 59,
     "metadata": {},
     "output_type": "execute_result"
    }
   ],
   "source": [
    "L(array([0.,1.1]), use_list=True)"
   ]
  },
  {
   "cell_type": "code",
   "execution_count": 86,
   "metadata": {},
   "outputs": [],
   "source": [
    "# To see a realtime example when working with datasets in Fastai\n",
    "\n",
    "path = untar_data(URLs.PETS)\n",
    "Path.BASE_PATH = path\n",
    "files = get_image_files(path)"
   ]
  },
  {
   "cell_type": "markdown",
   "metadata": {},
   "source": [
    "Here files is an L which can be also be checked by looking at its type as follows:"
   ]
  },
  {
   "cell_type": "code",
   "execution_count": 61,
   "metadata": {},
   "outputs": [
    {
     "data": {
      "text/plain": [
       "fastcore.foundation.L"
      ]
     },
     "execution_count": 61,
     "metadata": {},
     "output_type": "execute_result"
    }
   ],
   "source": [
    "type(files)"
   ]
  },
  {
   "cell_type": "markdown",
   "metadata": {},
   "source": [
    "Let's take a look a better look at the class `L` using the `help` function:"
   ]
  },
  {
   "cell_type": "code",
   "execution_count": 62,
   "metadata": {
    "code_folding": []
   },
   "outputs": [
    {
     "name": "stdout",
     "output_type": "stream",
     "text": [
      "Help on class L in module fastcore.foundation:\n",
      "\n",
      "class L(CollBase)\n",
      " |  L(self, items=None, *rest, use_list=False, match=None)\n",
      " |  \n",
      " |  Behaves like a list of `items` but can also index with list of indices or masks\n",
      " |  \n",
      " |  Method resolution order:\n",
      " |      L\n",
      " |      CollBase\n",
      " |      builtins.object\n",
      " |  \n",
      " |  Methods defined here:\n",
      " |  \n",
      " |  __add__(a, b)\n",
      " |  \n",
      " |  __addi__(a, b)\n",
      " |  \n",
      " |  __contains__(self, b)\n",
      " |  \n",
      " |  __eq__(self, b)\n",
      " |      Return self==value.\n",
      " |  \n",
      " |  __getitem__(self, idx)\n",
      " |      Retrieve `idx` (can be list of indices, or mask, or int) items\n",
      " |  \n",
      " |  __init__(self, items=None, *rest, use_list=False, match=None)\n",
      " |      Initialize self.  See help(type(self)) for accurate signature.\n",
      " |  \n",
      " |  __invert__(self)\n",
      " |  \n",
      " |  __iter__(self)\n",
      " |  \n",
      " |  __mul__(a, b)\n",
      " |  \n",
      " |  __radd__(a, b)\n",
      " |  \n",
      " |  __repr__(self)\n",
      " |      Return repr(self).\n",
      " |  \n",
      " |  __setitem__(self, idx, o)\n",
      " |      Set `idx` (can be list of indices, or mask, or int) items to `o` (which is broadcast if not iterable)\n",
      " |  \n",
      " |  append(self, o)\n",
      " |      Passthru to `list` method\n",
      " |  \n",
      " |  argwhere(self, f, negate=False, **kwargs)\n",
      " |      Like `filter`, but return indices for matching items\n",
      " |  \n",
      " |  attrgot(self, k, default=None)\n",
      " |      Create new `L` with attr `k` of all `items`\n",
      " |  \n",
      " |  cat(self: fastcore.foundation.L, dim=0)\n",
      " |      Same as `torch.cat`\n",
      " |  \n",
      " |  clear(self)\n",
      " |      Passthru to `list` method\n",
      " |  \n",
      " |  concat(self)\n",
      " |      Concatenate all elements of list\n",
      " |  \n",
      " |  copy(self)\n",
      " |      Same as `list.copy`, but returns an `L`\n",
      " |  \n",
      " |  count(self, o)\n",
      " |      Passthru to `list` method\n",
      " |  \n",
      " |  cycle(self)\n",
      " |      Same as `itertools.cycle`\n",
      " |  \n",
      " |  enumerate(self)\n",
      " |      Same as `enumerate`\n",
      " |  \n",
      " |  filter(self, f, negate=False, **kwargs)\n",
      " |      Create new `L` filtered by predicate `f`, passing `args` and `kwargs` to `f`\n",
      " |  \n",
      " |  index(self, value, start=0, stop=9223372036854775807)\n",
      " |      Passthru to `list` method\n",
      " |  \n",
      " |  itemgot(self, *idxs)\n",
      " |      Create new `L` with item `idx` of all `items`\n",
      " |  \n",
      " |  map(self, f, *args, **kwargs)\n",
      " |      Create new `L` with `f` applied to all `items`, passing `args` and `kwargs` to `f`\n",
      " |  \n",
      " |  map_dict(self, f=<function noop at 0xb1f55f488>, *args, **kwargs)\n",
      " |      Like `map`, but creates a dict from `items` to function results\n",
      " |  \n",
      " |  map_zip(self, f, *args, cycled=False, **kwargs)\n",
      " |      Combine `zip` and `starmap`\n",
      " |  \n",
      " |  map_zipwith(self, f, *rest, cycled=False, **kwargs)\n",
      " |      Combine `zipwith` and `starmap`\n",
      " |  \n",
      " |  pop(self, o=-1)\n",
      " |      Passthru to `list` method\n",
      " |  \n",
      " |  product(self)\n",
      " |      Product of the items\n",
      " |  \n",
      " |  reduce(self, f, initial=None)\n",
      " |      Wrapper for `functools.reduce`\n",
      " |  \n",
      " |  remove(self, o)\n",
      " |      Passthru to `list` method\n",
      " |  \n",
      " |  reverse(self)\n",
      " |      Passthru to `list` method\n",
      " |  \n",
      " |  shuffle(self)\n",
      " |      Same as `random.shuffle`, but not inplace\n",
      " |  \n",
      " |  sort(self, key=None, reverse=False)\n",
      " |      Passthru to `list` method\n",
      " |  \n",
      " |  sorted(self, key=None, reverse=False)\n",
      " |      New `L` sorted by `key`. If key is str then use `attrgetter`. If key is int then use `itemgetter`\n",
      " |  \n",
      " |  stack(self: fastcore.foundation.L, dim=0)\n",
      " |      Same as `torch.stack`\n",
      " |  \n",
      " |  starmap(self, f, *args, **kwargs)\n",
      " |      Like `map`, but use `itertools.starmap`\n",
      " |  \n",
      " |  sum(self)\n",
      " |      Sum of the items\n",
      " |  \n",
      " |  tensored(self: fastcore.foundation.L)\n",
      " |      `mapped(tensor)`\n",
      " |  \n",
      " |  unique(self)\n",
      " |      Unique items, in stable order\n",
      " |  \n",
      " |  val2idx(self)\n",
      " |      Dict from value to index\n",
      " |  \n",
      " |  zip(self, cycled=False)\n",
      " |      Create new `L` with `zip(*items)`\n",
      " |  \n",
      " |  zipwith(self, *rest, cycled=False)\n",
      " |      Create new `L` with `self` zip with each of `*rest`\n",
      " |  \n",
      " |  ----------------------------------------------------------------------\n",
      " |  Class methods defined here:\n",
      " |  \n",
      " |  range(a, b=None, step=None) from fastcore.foundation.NewChkMeta\n",
      " |      Same as `range`, but returns an `L`. Can pass a collection for `a`, to use `len(a)`\n",
      " |  \n",
      " |  split(s, sep=None, maxsplit=-1) from fastcore.foundation.NewChkMeta\n",
      " |      Same as `str.split`, but returns an `L`\n",
      " |  \n",
      " |  ----------------------------------------------------------------------\n",
      " |  Data and other attributes defined here:\n",
      " |  \n",
      " |  __hash__ = None\n",
      " |  \n",
      " |  __signature__ = <Signature (self, items=None, *rest, use_list=False, m...\n",
      " |  \n",
      " |  ----------------------------------------------------------------------\n",
      " |  Methods inherited from CollBase:\n",
      " |  \n",
      " |  __delitem__(self, i)\n",
      " |  \n",
      " |  __len__(self)\n",
      " |  \n",
      " |  ----------------------------------------------------------------------\n",
      " |  Data descriptors inherited from CollBase:\n",
      " |  \n",
      " |  __dict__\n",
      " |      dictionary for instance variables (if defined)\n",
      " |  \n",
      " |  __weakref__\n",
      " |      list of weak references to the object (if defined)\n",
      "\n"
     ]
    }
   ],
   "source": [
    "help(L)"
   ]
  },
  {
   "cell_type": "markdown",
   "metadata": {},
   "source": [
    "We can see that `L` inherits from class `CollBase`."
   ]
  },
  {
   "cell_type": "markdown",
   "metadata": {},
   "source": [
    "---"
   ]
  },
  {
   "cell_type": "markdown",
   "metadata": {},
   "source": [
    "## CollBase"
   ]
  },
  {
   "cell_type": "markdown",
   "metadata": {},
   "source": [
    "We can see that `L`'s Method resolution order:\n",
    "- L\n",
    "- CollBase\n",
    "- builtins.object"
   ]
  },
  {
   "cell_type": "markdown",
   "metadata": {},
   "source": [
    "> Fastai source code defines `CollBase` as a  \"Base class for composing a list of `items`\""
   ]
  },
  {
   "cell_type": "markdown",
   "metadata": {},
   "source": [
    "We can check is `issubclass` method in Python to check if a particular class is a subclass of another:"
   ]
  },
  {
   "cell_type": "code",
   "execution_count": 63,
   "metadata": {},
   "outputs": [
    {
     "data": {
      "text/plain": [
       "True"
      ]
     },
     "execution_count": 63,
     "metadata": {},
     "output_type": "execute_result"
    }
   ],
   "source": [
    "issubclass(L, CollBase)"
   ]
  },
  {
   "cell_type": "code",
   "execution_count": 64,
   "metadata": {},
   "outputs": [],
   "source": [
    "#hide\n",
    "L??"
   ]
  },
  {
   "cell_type": "markdown",
   "metadata": {},
   "source": [
    "When we look at the source code for `L` again using `??` in Jupyter we can see in the initialization a line:\n",
    "```\n",
    "super().__init__(items)\n",
    "```\n",
    "This indicates that if any items is passed to L, for instance a list, the initialization is handled by `CollBase`. \n",
    "\n",
    "Now if you look at the source code of `CollBase` we can see the same as well as some other methods to deal with the items. \n"
   ]
  },
  {
   "cell_type": "code",
   "execution_count": 65,
   "metadata": {
    "scrolled": true
   },
   "outputs": [],
   "source": [
    "#hide\n",
    "CollBase??"
   ]
  },
  {
   "cell_type": "markdown",
   "metadata": {},
   "source": [
    "From the source code we can gather that `CollBase` has a bunch of methods to deal with the items added to it such as it's creation, the manipulation of the items. "
   ]
  },
  {
   "cell_type": "markdown",
   "metadata": {},
   "source": [
    "---"
   ]
  },
  {
   "cell_type": "markdown",
   "metadata": {},
   "source": [
    "## The methods available in `L` "
   ]
  },
  {
   "cell_type": "markdown",
   "metadata": {},
   "source": [
    "Let's now look at all the methods available in `L` using the `dir` method in Python:"
   ]
  },
  {
   "cell_type": "code",
   "execution_count": 66,
   "metadata": {},
   "outputs": [
    {
     "data": {
      "text/plain": [
       "['__add__',\n",
       " '__addi__',\n",
       " '__class__',\n",
       " '__contains__',\n",
       " '__delattr__',\n",
       " '__delitem__',\n",
       " '__dict__',\n",
       " '__dir__',\n",
       " '__doc__',\n",
       " '__eq__',\n",
       " '__format__',\n",
       " '__ge__',\n",
       " '__getattribute__',\n",
       " '__getitem__',\n",
       " '__gt__',\n",
       " '__hash__',\n",
       " '__init__',\n",
       " '__init_subclass__',\n",
       " '__invert__',\n",
       " '__iter__',\n",
       " '__le__',\n",
       " '__len__',\n",
       " '__lt__',\n",
       " '__module__',\n",
       " '__mul__',\n",
       " '__ne__',\n",
       " '__new__',\n",
       " '__radd__',\n",
       " '__reduce__',\n",
       " '__reduce_ex__',\n",
       " '__repr__',\n",
       " '__setattr__',\n",
       " '__setitem__',\n",
       " '__signature__',\n",
       " '__sizeof__',\n",
       " '__str__',\n",
       " '__subclasshook__',\n",
       " '__weakref__',\n",
       " '_default',\n",
       " '_get',\n",
       " '_new',\n",
       " '_xtra',\n",
       " 'append',\n",
       " 'argwhere',\n",
       " 'attrgot',\n",
       " 'cat',\n",
       " 'clear',\n",
       " 'concat',\n",
       " 'copy',\n",
       " 'count',\n",
       " 'cycle',\n",
       " 'enumerate',\n",
       " 'filter',\n",
       " 'index',\n",
       " 'itemgot',\n",
       " 'map',\n",
       " 'map_dict',\n",
       " 'map_zip',\n",
       " 'map_zipwith',\n",
       " 'pop',\n",
       " 'product',\n",
       " 'range',\n",
       " 'reduce',\n",
       " 'remove',\n",
       " 'reverse',\n",
       " 'shuffle',\n",
       " 'sort',\n",
       " 'sorted',\n",
       " 'split',\n",
       " 'stack',\n",
       " 'starmap',\n",
       " 'sum',\n",
       " 'tensored',\n",
       " 'unique',\n",
       " 'val2idx',\n",
       " 'zip',\n",
       " 'zipwith']"
      ]
     },
     "execution_count": 66,
     "metadata": {},
     "output_type": "execute_result"
    }
   ],
   "source": [
    "dir(L)"
   ]
  },
  {
   "cell_type": "markdown",
   "metadata": {},
   "source": [
    "---\n",
    "We can see that the methods associated with can be clearly distinguished into two parts:\n",
    "\n",
    "1. ***Methods starting and ending with `__`:***\n",
    "    These are refered to a `dunder` or `magic` methods of a class in Python\n",
    "    \n",
    "2. ***Methods starting with `_`:***\n",
    "    These are methods defined specifically in the Fastai library.\n",
    "\n",
    "2. ***Normal methods:***\n",
    "    These are the normal methods defined to a class in Python.\n",
    "    \n",
    "  \n",
    "\n",
    "---"
   ]
  },
  {
   "cell_type": "markdown",
   "metadata": {},
   "source": [
    "## 1. Special/ dunder/ magic methods"
   ]
  },
  {
   "cell_type": "markdown",
   "metadata": {},
   "source": [
    "These special methods are used to emulate built-in methods in python that contributes with to ease of usability. \n",
    "\n",
    "Since everything in Python is basically a class we can use these in-built methods for our own class by implementing something known as 'operator overloading' to modify its behaviour as we intend to. "
   ]
  },
  {
   "cell_type": "markdown",
   "metadata": {},
   "source": [
    "---"
   ]
  },
  {
   "cell_type": "markdown",
   "metadata": {},
   "source": [
    "###  `__getitem__`"
   ]
  },
  {
   "cell_type": "markdown",
   "metadata": {},
   "source": [
    "We can check how each method works by using the '??' in jupyter notebooks after the method name"
   ]
  },
  {
   "cell_type": "code",
   "execution_count": 81,
   "metadata": {},
   "outputs": [],
   "source": [
    "#hide\n",
    "a.__getitem__??"
   ]
  },
  {
   "cell_type": "markdown",
   "metadata": {},
   "source": [
    "Or we can use the `help` method:"
   ]
  },
  {
   "cell_type": "code",
   "execution_count": 143,
   "metadata": {},
   "outputs": [
    {
     "name": "stdout",
     "output_type": "stream",
     "text": [
      "Help on method __getitem__ in module fastcore.foundation:\n",
      "\n",
      "__getitem__(idx) method of fastcore.foundation.L instance\n",
      "    Retrieve `idx` (can be list of indices, or mask, or int) items\n",
      "\n"
     ]
    }
   ],
   "source": [
    "#hide_input\n",
    "help(a.__getitem__)"
   ]
  },
  {
   "cell_type": "markdown",
   "metadata": {},
   "source": [
    "We can access the index of an L as follows:"
   ]
  },
  {
   "cell_type": "code",
   "execution_count": 11,
   "metadata": {},
   "outputs": [
    {
     "data": {
      "text/plain": [
       "1"
      ]
     },
     "execution_count": 11,
     "metadata": {},
     "output_type": "execute_result"
    }
   ],
   "source": [
    "a.__getitem__(0)"
   ]
  },
  {
   "cell_type": "markdown",
   "metadata": {},
   "source": [
    "Or in the more appealing way by indexing as follows:"
   ]
  },
  {
   "cell_type": "code",
   "execution_count": 12,
   "metadata": {},
   "outputs": [
    {
     "data": {
      "text/plain": [
       "1"
      ]
     },
     "execution_count": 12,
     "metadata": {},
     "output_type": "execute_result"
    }
   ],
   "source": [
    "a[0]"
   ]
  },
  {
   "cell_type": "markdown",
   "metadata": {},
   "source": [
    "In practical terms, in case we want to see one image file path when building a model we can do it as follows:"
   ]
  },
  {
   "cell_type": "code",
   "execution_count": 95,
   "metadata": {},
   "outputs": [
    {
     "data": {
      "text/plain": [
       "Path('images/Egyptian_Mau_167.jpg')"
      ]
     },
     "execution_count": 95,
     "metadata": {},
     "output_type": "execute_result"
    }
   ],
   "source": [
    "files[0]"
   ]
  },
  {
   "cell_type": "markdown",
   "metadata": {},
   "source": [
    "> ***Note***: Internally in Python, when we index as iterable like `L` as hsown aboev, it internally calls the `__getitem__` method."
   ]
  },
  {
   "cell_type": "markdown",
   "metadata": {},
   "source": [
    "---"
   ]
  },
  {
   "cell_type": "markdown",
   "metadata": {},
   "source": [
    "### `__setitem__`"
   ]
  },
  {
   "cell_type": "code",
   "execution_count": 16,
   "metadata": {},
   "outputs": [
    {
     "name": "stdout",
     "output_type": "stream",
     "text": [
      "Help on method __setitem__ in module fastcore.foundation:\n",
      "\n",
      "__setitem__(idx, o) method of fastcore.foundation.L instance\n",
      "    Set `idx` (can be list of indices, or mask, or int) items to `o` (which is broadcast if not iterable)\n",
      "\n"
     ]
    }
   ],
   "source": [
    "#hide_input\n",
    "help(a.__setitem__)"
   ]
  },
  {
   "cell_type": "markdown",
   "metadata": {},
   "source": [
    "`__setitem__` also takes an index and the value we want to add and we can do it as follows:"
   ]
  },
  {
   "cell_type": "code",
   "execution_count": 14,
   "metadata": {},
   "outputs": [
    {
     "data": {
      "text/plain": [
       "(#3) [1,0,3]"
      ]
     },
     "execution_count": 14,
     "metadata": {},
     "output_type": "execute_result"
    }
   ],
   "source": [
    "a[1] = 0\n",
    "a"
   ]
  },
  {
   "cell_type": "markdown",
   "metadata": {},
   "source": [
    "Internally, the above method is doing the same as below:"
   ]
  },
  {
   "cell_type": "code",
   "execution_count": 15,
   "metadata": {},
   "outputs": [
    {
     "data": {
      "text/plain": [
       "(#3) [1,4,3]"
      ]
     },
     "execution_count": 15,
     "metadata": {},
     "output_type": "execute_result"
    }
   ],
   "source": [
    "a.__setitem__(1, 4)\n",
    "a"
   ]
  },
  {
   "cell_type": "markdown",
   "metadata": {},
   "source": [
    "---"
   ]
  },
  {
   "cell_type": "markdown",
   "metadata": {},
   "source": [
    "### `__contains__`"
   ]
  },
  {
   "cell_type": "code",
   "execution_count": 105,
   "metadata": {},
   "outputs": [
    {
     "name": "stdout",
     "output_type": "stream",
     "text": [
      "Help on method __contains__ in module fastcore.foundation:\n",
      "\n",
      "__contains__(b) method of fastcore.foundation.L instance\n",
      "\n"
     ]
    }
   ],
   "source": [
    "#hide_input\n",
    "\n",
    "help(a.__contains__)"
   ]
  },
  {
   "cell_type": "code",
   "execution_count": 104,
   "metadata": {},
   "outputs": [
    {
     "data": {
      "text/plain": [
       "(#3) [1,2,3]"
      ]
     },
     "execution_count": 104,
     "metadata": {},
     "output_type": "execute_result"
    }
   ],
   "source": [
    "a = L([1, 2, 3]); a"
   ]
  },
  {
   "cell_type": "markdown",
   "metadata": {},
   "source": [
    "We can use `__contains__` to check if an element is in `L` as follows:"
   ]
  },
  {
   "cell_type": "code",
   "execution_count": 107,
   "metadata": {},
   "outputs": [
    {
     "data": {
      "text/plain": [
       "True"
      ]
     },
     "execution_count": 107,
     "metadata": {},
     "output_type": "execute_result"
    }
   ],
   "source": [
    "1 in a"
   ]
  },
  {
   "cell_type": "markdown",
   "metadata": {},
   "source": [
    "Internally in Python, this is what is happening:"
   ]
  },
  {
   "cell_type": "code",
   "execution_count": 108,
   "metadata": {},
   "outputs": [
    {
     "data": {
      "text/plain": [
       "True"
      ]
     },
     "execution_count": 108,
     "metadata": {},
     "output_type": "execute_result"
    }
   ],
   "source": [
    "a.__contains__(1)"
   ]
  },
  {
   "cell_type": "markdown",
   "metadata": {},
   "source": [
    "---"
   ]
  },
  {
   "cell_type": "markdown",
   "metadata": {},
   "source": [
    "### `__delitem__`"
   ]
  },
  {
   "cell_type": "code",
   "execution_count": 107,
   "metadata": {},
   "outputs": [
    {
     "name": "stdout",
     "output_type": "stream",
     "text": [
      "Help on method __delitem__ in module fastcore.foundation:\n",
      "\n",
      "__delitem__(i) method of fastcore.foundation.L instance\n",
      "\n"
     ]
    }
   ],
   "source": [
    "#hide_input\n",
    "help(a.__delitem__)"
   ]
  },
  {
   "cell_type": "code",
   "execution_count": 88,
   "metadata": {},
   "outputs": [],
   "source": [
    "a = L([1, 2, 3])"
   ]
  },
  {
   "cell_type": "markdown",
   "metadata": {},
   "source": [
    "We can delete items in L as follows:"
   ]
  },
  {
   "cell_type": "code",
   "execution_count": 89,
   "metadata": {},
   "outputs": [
    {
     "data": {
      "text/plain": [
       "(#2) [2,3]"
      ]
     },
     "execution_count": 89,
     "metadata": {},
     "output_type": "execute_result"
    }
   ],
   "source": [
    "a.__delitem__(0)\n",
    "a"
   ]
  },
  {
   "cell_type": "markdown",
   "metadata": {},
   "source": [
    "Or we can do it as follows:"
   ]
  },
  {
   "cell_type": "code",
   "execution_count": 90,
   "metadata": {},
   "outputs": [
    {
     "data": {
      "text/plain": [
       "(#1) [3]"
      ]
     },
     "execution_count": 90,
     "metadata": {},
     "output_type": "execute_result"
    }
   ],
   "source": [
    "del(a[0])\n",
    "a"
   ]
  },
  {
   "cell_type": "code",
   "execution_count": 96,
   "metadata": {},
   "outputs": [
    {
     "data": {
      "text/plain": [
       "Path('images/Egyptian_Mau_167.jpg')"
      ]
     },
     "execution_count": 96,
     "metadata": {},
     "output_type": "execute_result"
    }
   ],
   "source": [
    "files[0]"
   ]
  },
  {
   "cell_type": "markdown",
   "metadata": {},
   "source": [
    "---"
   ]
  },
  {
   "cell_type": "markdown",
   "metadata": {},
   "source": [
    "###  `__mul__`"
   ]
  },
  {
   "cell_type": "code",
   "execution_count": 32,
   "metadata": {},
   "outputs": [],
   "source": [
    "a = L([1, 2, 3])"
   ]
  },
  {
   "cell_type": "code",
   "execution_count": 79,
   "metadata": {},
   "outputs": [],
   "source": [
    "#hide\n",
    "a.__mul__??"
   ]
  },
  {
   "cell_type": "code",
   "execution_count": 29,
   "metadata": {},
   "outputs": [
    {
     "data": {
      "text/plain": [
       "(#9) [1,2,3,1,2,3,1,2,3]"
      ]
     },
     "execution_count": 29,
     "metadata": {},
     "output_type": "execute_result"
    }
   ],
   "source": [
    "a*3"
   ]
  },
  {
   "cell_type": "markdown",
   "metadata": {},
   "source": [
    "The above code is same as doing: ```a.__mul__(3)```\n",
    "\n",
    "Internally in Python this is what is actually being called. "
   ]
  },
  {
   "cell_type": "markdown",
   "metadata": {},
   "source": [
    "---"
   ]
  },
  {
   "cell_type": "markdown",
   "metadata": {},
   "source": [
    "## 2. Fastai specific methods"
   ]
  },
  {
   "cell_type": "code",
   "execution_count": 5,
   "metadata": {},
   "outputs": [
    {
     "name": "stdout",
     "output_type": "stream",
     "text": [
      "The available special methods is Fastai's `L` class are: \n",
      "_default, _get, _new, _xtra\n"
     ]
    }
   ],
   "source": [
    "#hide_input\n",
    "special_methods = ['_default',\n",
    "'_get',\n",
    "'_new',\n",
    "'_xtra']\n",
    "print(f\"The available special methods is Fastai's `L` class are: \\n{', '.join(special_methods)}\")"
   ]
  },
  {
   "cell_type": "markdown",
   "metadata": {},
   "source": [
    "Out of these methods the most interesting method is `_new` so lets look at that:"
   ]
  },
  {
   "cell_type": "markdown",
   "metadata": {},
   "source": [
    "###  `_new`"
   ]
  },
  {
   "cell_type": "code",
   "execution_count": 8,
   "metadata": {},
   "outputs": [
    {
     "name": "stdout",
     "output_type": "stream",
     "text": [
      "Help on function _new in module fastcore.foundation:\n",
      "\n",
      "_new(self, items, *args, **kwargs)\n",
      "\n"
     ]
    }
   ],
   "source": [
    "#hide_input\n",
    "help(L._new)"
   ]
  },
  {
   "cell_type": "code",
   "execution_count": 14,
   "metadata": {},
   "outputs": [
    {
     "data": {
      "text/plain": [
       "(#3) [1,2,3]"
      ]
     },
     "execution_count": 14,
     "metadata": {},
     "output_type": "execute_result"
    }
   ],
   "source": [
    "a = L([1, 2, 3]); a"
   ]
  },
  {
   "cell_type": "code",
   "execution_count": 15,
   "metadata": {},
   "outputs": [
    {
     "name": "stdout",
     "output_type": "stream",
     "text": [
      "Help on method _new in module fastcore.foundation:\n",
      "\n",
      "_new(items, *args, **kwargs) method of fastcore.foundation.L instance\n",
      "\n"
     ]
    }
   ],
   "source": [
    "help(a._new)"
   ]
  },
  {
   "cell_type": "code",
   "execution_count": 35,
   "metadata": {},
   "outputs": [],
   "source": [
    "#hide\n",
    "a._new??"
   ]
  },
  {
   "cell_type": "markdown",
   "metadata": {},
   "source": [
    "The `_new` creates a new instance of `L` which requires some items to be passed to it. "
   ]
  },
  {
   "cell_type": "code",
   "execution_count": 38,
   "metadata": {},
   "outputs": [
    {
     "data": {
      "text/plain": [
       "(#3) [1,2,3]"
      ]
     },
     "execution_count": 38,
     "metadata": {},
     "output_type": "execute_result"
    }
   ],
   "source": [
    "a"
   ]
  },
  {
   "cell_type": "markdown",
   "metadata": {},
   "source": [
    "Using `_new` to create a soft copy of `a`"
   ]
  },
  {
   "cell_type": "code",
   "execution_count": 70,
   "metadata": {},
   "outputs": [],
   "source": [
    "a = L([1, 2, 3])"
   ]
  },
  {
   "cell_type": "code",
   "execution_count": 71,
   "metadata": {},
   "outputs": [
    {
     "data": {
      "text/plain": [
       "(#3) [1,2,3]"
      ]
     },
     "execution_count": 71,
     "metadata": {},
     "output_type": "execute_result"
    }
   ],
   "source": [
    "b = a._new(a.items)\n",
    "b"
   ]
  },
  {
   "cell_type": "code",
   "execution_count": 72,
   "metadata": {},
   "outputs": [
    {
     "data": {
      "text/plain": [
       "(112557760920, 112557761760)"
      ]
     },
     "execution_count": 72,
     "metadata": {},
     "output_type": "execute_result"
    }
   ],
   "source": [
    "id(a), id(b)"
   ]
  },
  {
   "cell_type": "code",
   "execution_count": 73,
   "metadata": {},
   "outputs": [
    {
     "data": {
      "text/plain": [
       "(#4) [1,2,3,4]"
      ]
     },
     "execution_count": 73,
     "metadata": {},
     "output_type": "execute_result"
    }
   ],
   "source": [
    "a.append(4)\n",
    "a"
   ]
  },
  {
   "cell_type": "code",
   "execution_count": 74,
   "metadata": {},
   "outputs": [
    {
     "data": {
      "text/plain": [
       "(#4) [1,2,3,4]"
      ]
     },
     "execution_count": 74,
     "metadata": {},
     "output_type": "execute_result"
    }
   ],
   "source": [
    "b"
   ]
  },
  {
   "cell_type": "markdown",
   "metadata": {},
   "source": [
    "> ***Note:*** The `__mul__` function uses `_new`, it returns:\n",
    "``` \n",
    "a._new(a.items*b)```"
   ]
  },
  {
   "cell_type": "markdown",
   "metadata": {},
   "source": [
    "---"
   ]
  },
  {
   "cell_type": "markdown",
   "metadata": {},
   "source": [
    "## 3. Normal methods"
   ]
  },
  {
   "cell_type": "markdown",
   "metadata": {},
   "source": [
    "---"
   ]
  },
  {
   "cell_type": "markdown",
   "metadata": {},
   "source": [
    "### append"
   ]
  },
  {
   "cell_type": "code",
   "execution_count": null,
   "metadata": {},
   "outputs": [],
   "source": [
    "#hide_input\n",
    "help(L.append)"
   ]
  },
  {
   "cell_type": "code",
   "execution_count": 41,
   "metadata": {},
   "outputs": [],
   "source": [
    "#hide\n",
    "a.append??"
   ]
  },
  {
   "cell_type": "code",
   "execution_count": 81,
   "metadata": {},
   "outputs": [
    {
     "data": {
      "text/plain": [
       "(#4) [1,2,3,4]"
      ]
     },
     "execution_count": 81,
     "metadata": {},
     "output_type": "execute_result"
    }
   ],
   "source": [
    "a = L([1, 2, 3])\n",
    "a.append(4)\n",
    "a"
   ]
  },
  {
   "cell_type": "markdown",
   "metadata": {},
   "source": [
    "---"
   ]
  },
  {
   "cell_type": "markdown",
   "metadata": {},
   "source": [
    "### arttrgot"
   ]
  },
  {
   "cell_type": "markdown",
   "metadata": {},
   "source": [
    "This method can be used to get specific attributes from all items in L"
   ]
  },
  {
   "cell_type": "code",
   "execution_count": 82,
   "metadata": {},
   "outputs": [
    {
     "name": "stdout",
     "output_type": "stream",
     "text": [
      "Help on function attrgot in module fastcore.foundation:\n",
      "\n",
      "attrgot(self, k, default=None)\n",
      "    Create new `L` with attr `k` of all `items`\n",
      "\n"
     ]
    }
   ],
   "source": [
    "#hide_input\n",
    "help(L.attrgot)"
   ]
  },
  {
   "cell_type": "code",
   "execution_count": 84,
   "metadata": {},
   "outputs": [],
   "source": [
    "#hide\n",
    "L.attrgot??"
   ]
  },
  {
   "cell_type": "markdown",
   "metadata": {},
   "source": [
    "`attrgot` is a simple function that just maps `getattr` and the attribute you pass to an `L`.\n",
    "\n",
    "`attrgot` is a pretty useful function and here's a practical example of where you can use it to get the `name` or `stem` attribute from paths. "
   ]
  },
  {
   "cell_type": "code",
   "execution_count": 88,
   "metadata": {},
   "outputs": [
    {
     "data": {
      "text/plain": [
       "(#10) ['Egyptian_Mau_167','pug_52','basset_hound_112','Siamese_193','shiba_inu_122','Siamese_53','Birman_167','leonberger_6','Siamese_47','shiba_inu_136']"
      ]
     },
     "execution_count": 88,
     "metadata": {},
     "output_type": "execute_result"
    }
   ],
   "source": [
    "ten_file_names = files[:10].attrgot('name')\n",
    "ten_file_names"
   ]
  },
  {
   "cell_type": "markdown",
   "metadata": {},
   "source": [
    "The `stem` attribute calculates the name without the file extensions as well"
   ]
  },
  {
   "cell_type": "code",
   "execution_count": 89,
   "metadata": {},
   "outputs": [
    {
     "data": {
      "text/plain": [
       "(#10) ['Egyptian_Mau_167','pug_52','basset_hound_112','Siamese_193','shiba_inu_122','Siamese_53','Birman_167','leonberger_6','Siamese_47','shiba_inu_136']"
      ]
     },
     "execution_count": 89,
     "metadata": {},
     "output_type": "execute_result"
    }
   ],
   "source": [
    "ten_file_stems = files[:10].attrgot('stem')\n",
    "ten_file_stems"
   ]
  },
  {
   "cell_type": "markdown",
   "metadata": {},
   "source": [
    "---"
   ]
  },
  {
   "cell_type": "markdown",
   "metadata": {},
   "source": [
    "### enumerate"
   ]
  },
  {
   "cell_type": "code",
   "execution_count": 90,
   "metadata": {},
   "outputs": [
    {
     "name": "stdout",
     "output_type": "stream",
     "text": [
      "Help on function enumerate in module fastcore.foundation:\n",
      "\n",
      "enumerate(self)\n",
      "    Same as `enumerate`\n",
      "\n"
     ]
    }
   ],
   "source": [
    "#hide_input\n",
    "help(L.enumerate)"
   ]
  },
  {
   "cell_type": "code",
   "execution_count": 91,
   "metadata": {},
   "outputs": [
    {
     "data": {
      "text/plain": [
       "(#10) [(0, 'Egyptian_Mau_167'),(1, 'pug_52'),(2, 'basset_hound_112'),(3, 'Siamese_193'),(4, 'shiba_inu_122'),(5, 'Siamese_53'),(6, 'Birman_167'),(7, 'leonberger_6'),(8, 'Siamese_47'),(9, 'shiba_inu_136')]"
      ]
     },
     "execution_count": 91,
     "metadata": {},
     "output_type": "execute_result"
    }
   ],
   "source": [
    "ten_file_names.enumerate()"
   ]
  },
  {
   "cell_type": "markdown",
   "metadata": {},
   "source": [
    "`enumerate` returns an `L` where each element is tuple with the index(0th indexing) and the item itself.\n",
    "\n",
    "We can use it something like this in a loop to build something from it if in case we need the index as well as the item for some manipulations"
   ]
  },
  {
   "cell_type": "code",
   "execution_count": 69,
   "metadata": {},
   "outputs": [
    {
     "name": "stdout",
     "output_type": "stream",
     "text": [
      "0 Egyptian_Mau_167.jpg\n",
      "1 pug_52.jpg\n",
      "2 basset_hound_112.jpg\n",
      "3 Siamese_193.jpg\n",
      "4 shiba_inu_122.jpg\n",
      "5 Siamese_53.jpg\n",
      "6 Birman_167.jpg\n",
      "7 leonberger_6.jpg\n",
      "8 Siamese_47.jpg\n",
      "9 shiba_inu_136.jpg\n"
     ]
    }
   ],
   "source": [
    "for i, file in enumerate(ten_file_names):\n",
    "    print(i, file)"
   ]
  },
  {
   "cell_type": "markdown",
   "metadata": {},
   "source": [
    "---"
   ]
  },
  {
   "cell_type": "markdown",
   "metadata": {},
   "source": [
    "### filter"
   ]
  },
  {
   "cell_type": "code",
   "execution_count": 32,
   "metadata": {},
   "outputs": [
    {
     "name": "stdout",
     "output_type": "stream",
     "text": [
      "Help on function filter in module fastcore.foundation:\n",
      "\n",
      "filter(self, f, negate=False, **kwargs)\n",
      "    Create new `L` filtered by predicate `f`, passing `args` and `kwargs` to `f`\n",
      "\n"
     ]
    }
   ],
   "source": [
    "#hide_input\n",
    "help(L.filter)"
   ]
  },
  {
   "cell_type": "markdown",
   "metadata": {},
   "source": [
    "`filter` is used to return items in an `L` that pass a function. \n",
    "\n",
    "For instance we can use it to get all the items in files which start with upper case. Based on the PETS dataset, all such names that start with uppercase indicates that its a cat. "
   ]
  },
  {
   "cell_type": "code",
   "execution_count": 29,
   "metadata": {},
   "outputs": [
    {
     "data": {
      "text/plain": [
       "(#5) ['Egyptian_Mau_167.jpg','Siamese_193.jpg','Siamese_53.jpg','Birman_167.jpg','Siamese_47.jpg']"
      ]
     },
     "execution_count": 29,
     "metadata": {},
     "output_type": "execute_result"
    }
   ],
   "source": [
    "ten_file_names.filter(lambda x: x[0].isupper())"
   ]
  },
  {
   "cell_type": "markdown",
   "metadata": {},
   "source": [
    "with negate=True we can get the vice-versa, i.e. all the dog image files:"
   ]
  },
  {
   "cell_type": "code",
   "execution_count": 31,
   "metadata": {},
   "outputs": [
    {
     "data": {
      "text/plain": [
       "(#5) ['pug_52.jpg','basset_hound_112.jpg','shiba_inu_122.jpg','leonberger_6.jpg','shiba_inu_136.jpg']"
      ]
     },
     "execution_count": 31,
     "metadata": {},
     "output_type": "execute_result"
    }
   ],
   "source": [
    "ten_file_names.filter(lambda x: x[0].isupper(), negate=True)"
   ]
  },
  {
   "cell_type": "markdown",
   "metadata": {},
   "source": [
    "---"
   ]
  },
  {
   "cell_type": "markdown",
   "metadata": {},
   "source": [
    "### map"
   ]
  },
  {
   "cell_type": "code",
   "execution_count": 45,
   "metadata": {},
   "outputs": [
    {
     "name": "stdout",
     "output_type": "stream",
     "text": [
      "Help on function map in module fastcore.foundation:\n",
      "\n",
      "map(self, f, *args, **kwargs)\n",
      "    Create new `L` with `f` applied to all `items`, passing `args` and `kwargs` to `f`\n",
      "\n"
     ]
    }
   ],
   "source": [
    "#hide_input\n",
    "help(L.map)"
   ]
  },
  {
   "cell_type": "markdown",
   "metadata": {},
   "source": [
    "`map` is used to map a function over all elements of `L`"
   ]
  },
  {
   "cell_type": "code",
   "execution_count": 46,
   "metadata": {},
   "outputs": [
    {
     "data": {
      "text/plain": [
       "(#4) [0,1,4,9]"
      ]
     },
     "execution_count": 46,
     "metadata": {},
     "output_type": "execute_result"
    }
   ],
   "source": [
    "L.range(4).map(lambda x: x**2)"
   ]
  },
  {
   "cell_type": "markdown",
   "metadata": {},
   "source": [
    "---"
   ]
  },
  {
   "cell_type": "markdown",
   "metadata": {},
   "source": [
    "### map_dict"
   ]
  },
  {
   "cell_type": "code",
   "execution_count": 48,
   "metadata": {},
   "outputs": [
    {
     "name": "stdout",
     "output_type": "stream",
     "text": [
      "Help on function map_dict in module fastcore.foundation:\n",
      "\n",
      "map_dict(self, f=<function noop at 0xb220cc6a8>, *args, **kwargs)\n",
      "    Like `map`, but creates a dict from `items` to function results\n",
      "\n"
     ]
    }
   ],
   "source": [
    "#hide_input\n",
    "help(L.map_dict)"
   ]
  },
  {
   "cell_type": "markdown",
   "metadata": {},
   "source": [
    "`map_dict` applies a function over 'L' to return a dict where the dictionary's items are the original elements and its values are the modified values after applying the function. "
   ]
  },
  {
   "cell_type": "code",
   "execution_count": 49,
   "metadata": {},
   "outputs": [
    {
     "data": {
      "text/plain": [
       "{1: 1, 2: 4, 3: 9}"
      ]
     },
     "execution_count": 49,
     "metadata": {},
     "output_type": "execute_result"
    }
   ],
   "source": [
    "L.range(1, 4).map_dict(lambda x: x**2)"
   ]
  },
  {
   "cell_type": "markdown",
   "metadata": {},
   "source": [
    "---"
   ]
  },
  {
   "cell_type": "markdown",
   "metadata": {},
   "source": [
    "### zip"
   ]
  },
  {
   "cell_type": "code",
   "execution_count": 92,
   "metadata": {},
   "outputs": [
    {
     "name": "stdout",
     "output_type": "stream",
     "text": [
      "Help on function zip in module fastcore.foundation:\n",
      "\n",
      "zip(self, cycled=False)\n",
      "    Create new `L` with `zip(*items)`\n",
      "\n"
     ]
    }
   ],
   "source": [
    "#hide_input\n",
    "help(L.zip)"
   ]
  },
  {
   "cell_type": "code",
   "execution_count": 54,
   "metadata": {},
   "outputs": [
    {
     "data": {
      "text/plain": [
       "(#2) [[1, 2, 3],'abc']"
      ]
     },
     "execution_count": 54,
     "metadata": {},
     "output_type": "execute_result"
    }
   ],
   "source": [
    "a = L([1, 2, 3], 'abc')\n",
    "a"
   ]
  },
  {
   "cell_type": "code",
   "execution_count": 56,
   "metadata": {},
   "outputs": [
    {
     "data": {
      "text/plain": [
       "(#3) [(1, 'a'),(2, 'b'),(3, 'c')]"
      ]
     },
     "execution_count": 56,
     "metadata": {},
     "output_type": "execute_result"
    }
   ],
   "source": [
    "a.zip()"
   ]
  },
  {
   "cell_type": "markdown",
   "metadata": {},
   "source": [
    "---"
   ]
  },
  {
   "cell_type": "markdown",
   "metadata": {},
   "source": [
    "### split"
   ]
  },
  {
   "cell_type": "code",
   "execution_count": null,
   "metadata": {},
   "outputs": [],
   "source": [
    "#hide_input\n",
    "help(L.split)"
   ]
  },
  {
   "cell_type": "code",
   "execution_count": 66,
   "metadata": {},
   "outputs": [
    {
     "data": {
      "text/plain": [
       "(#3) ['a','b','c']"
      ]
     },
     "execution_count": 66,
     "metadata": {},
     "output_type": "execute_result"
    }
   ],
   "source": [
    "L.split('a/b/c', sep='/')"
   ]
  },
  {
   "cell_type": "markdown",
   "metadata": {},
   "source": [
    "---"
   ]
  },
  {
   "cell_type": "markdown",
   "metadata": {},
   "source": [
    "### concat"
   ]
  },
  {
   "cell_type": "code",
   "execution_count": 70,
   "metadata": {},
   "outputs": [
    {
     "name": "stdout",
     "output_type": "stream",
     "text": [
      "Help on function concat in module fastcore.foundation:\n",
      "\n",
      "concat(self)\n",
      "    Concatenate all elements of list\n",
      "\n"
     ]
    }
   ],
   "source": [
    "#hide_input\n",
    "help(L.concat)"
   ]
  },
  {
   "cell_type": "code",
   "execution_count": 98,
   "metadata": {},
   "outputs": [],
   "source": [
    "#hide\n",
    "L.concat??"
   ]
  },
  {
   "cell_type": "code",
   "execution_count": 99,
   "metadata": {},
   "outputs": [
    {
     "data": {
      "text/plain": [
       "(#3) [1,2,['abc']]"
      ]
     },
     "execution_count": 99,
     "metadata": {},
     "output_type": "execute_result"
    }
   ],
   "source": [
    "a = L([1, 2, 3, ['abc']])\n",
    "a"
   ]
  },
  {
   "cell_type": "code",
   "execution_count": 101,
   "metadata": {},
   "outputs": [
    {
     "data": {
      "text/plain": [
       "(#4) [1,2,['abc'],['def']]"
      ]
     },
     "execution_count": 101,
     "metadata": {},
     "output_type": "execute_result"
    }
   ],
   "source": [
    "a.append(['def'])\n",
    "a"
   ]
  },
  {
   "cell_type": "code",
   "execution_count": 102,
   "metadata": {},
   "outputs": [
    {
     "data": {
      "text/plain": [
       "(#4) [1,2,'abc','def']"
      ]
     },
     "execution_count": 102,
     "metadata": {},
     "output_type": "execute_result"
    }
   ],
   "source": [
    "a.concat()"
   ]
  },
  {
   "cell_type": "code",
   "execution_count": 69,
   "metadata": {},
   "outputs": [
    {
     "data": {
      "text/plain": [
       "(#5) [1,2,3,4,5]"
      ]
     },
     "execution_count": 69,
     "metadata": {},
     "output_type": "execute_result"
    }
   ],
   "source": [
    "b = L([[[1, 2], 3], [4, 5]])\n",
    "\n",
    "b.concat().concat()"
   ]
  },
  {
   "cell_type": "markdown",
   "metadata": {},
   "source": [
    "---"
   ]
  },
  {
   "cell_type": "markdown",
   "metadata": {
    "heading_collapsed": true
   },
   "source": [
    "## Conclusion"
   ]
  },
  {
   "cell_type": "markdown",
   "metadata": {
    "hidden": true
   },
   "source": [
    "The `L` data structure created in Fastai V2 is extremely useful and has some really power functionality. I am still digging into the depths of Fastai V2 and as I go along with it i'll try to update this in terms of the practical usability of the methods in its class for building state-of-the-art models using the library. \n",
    "\n",
    "---\n",
    "\n",
    "Happy learning! Stay home and stay safe :)\n",
    "\n",
    "---"
   ]
  }
 ],
 "metadata": {
  "kernelspec": {
   "display_name": "Python 3",
   "language": "python",
   "name": "python3"
  },
  "language_info": {
   "codemirror_mode": {
    "name": "ipython",
    "version": 3
   },
   "file_extension": ".py",
   "mimetype": "text/x-python",
   "name": "python",
   "nbconvert_exporter": "python",
   "pygments_lexer": "ipython3",
   "version": "3.7.2"
  }
 },
 "nbformat": 4,
 "nbformat_minor": 2
}
