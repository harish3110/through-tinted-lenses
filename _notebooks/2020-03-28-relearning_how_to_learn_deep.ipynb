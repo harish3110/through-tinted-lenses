{
 "cells": [
  {
   "cell_type": "markdown",
   "metadata": {},
   "source": [
    "# Re-learning how to learn, deep.\n",
    "> Using Fastai to become a state-of-the-art deep learning practitioner!\n",
    "\n",
    "- toc: true \n",
    "- badges: true\n",
    "- comments: true\n",
    "- categories: [fastai, image classification]\n"
   ]
  },
  {
   "cell_type": "markdown",
   "metadata": {},
   "source": [
    "---\n",
    ">“The illiterate of the 21st century will not be those who cannot read and write, but those who cannot learn, unlearn, and relearn. ” \n",
    "― Alvin Toffler\n",
    "\n",
    "---\n",
    "\n",
    "## Fact: Deep Learning is hard!\n",
    "\n",
    "I have a background in Electronics Engineering and having studied in the sub-continent, the amount of exposure to programming was virtually non-existent. Since graduating, I have slowly transitioned my way into the field of data science and machine learning by starting from scratch and building block after block, the necessary skills to call myself a data scientist, and land a job in the field. \n",
    "\n",
    "Whenever I meet anyone from a non-ML background and tell them  I'm a data scientist, their response is almost always the same. They nod in appreciation and say something like, \"That's the future!\" and that \"I'm on the right path!\". And if they're a parent, holding to the Indian parent tag who takes the first opportunity to 'help mold' their child's future, would introduce me to their son/daughter and ask me to discuss the field with them. Then they begin asking questions about the area like self-driving cars and other popular fields and finally land on to the million-dollar question \"Is it difficult to become a deep learning engineer?\". To this, I always find myself lying and spout out of phrases like \"it's easy\" and \"anyone can do it\"! Whereas the fact of the matter is that it entirely isn't. \n",
    "\n",
    "Being a self-learner, I learned how to code in Python, understood the fundamental concepts of data science and machine learning by following an array of popular MOOCs such as Coursera, Udacity, etc. as well as completed certifications from reputed colleges in India. It has been an incredible journey of learning, but it has not been easy! There is always a huge learning curve, and even after you complete a course or certification, there's still that void of not having built anything meaningful. Every one of the courses makes a point of conveying the theory and underlying maths well but almost always fail at delivering to students the necessary tools to go ahead and build something meaningful. There's still that next step(s) needed to be taken by the student to further the knowledge learned in the course. It's not that it wasn't possible; the amount of work required to put into it was not straightforward!\n",
    "\n",
    "---"
   ]
  },
  {
   "cell_type": "code",
   "execution_count": null,
   "metadata": {},
   "outputs": [],
   "source": []
  }
 ],
 "metadata": {
  "kernelspec": {
   "display_name": "Python 3",
   "language": "python",
   "name": "python3"
  },
  "language_info": {
   "codemirror_mode": {
    "name": "ipython",
    "version": 3
   },
   "file_extension": ".py",
   "mimetype": "text/x-python",
   "name": "python",
   "nbconvert_exporter": "python",
   "pygments_lexer": "ipython3",
   "version": "3.7.2"
  }
 },
 "nbformat": 4,
 "nbformat_minor": 4
}
